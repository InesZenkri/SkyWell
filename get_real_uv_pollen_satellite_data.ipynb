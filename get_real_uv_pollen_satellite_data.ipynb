{
 "cells": [
  {
   "cell_type": "markdown",
   "metadata": {},
   "source": [
    "# Copernicus Berlin UV & Pollen Risk Score\n",
    "\n",
    "This notebook fetches UV index and pollen forecast data for Berlin, computes a user-weighted risk score, and visualizes the result.\n",
    "\n",
    "**Instructions:**\n",
    "- Run each cell in order.\n",
    "- Adjust the weights in the cell below to match your user profile.\n",
    "- The notebook is ready for use in the Copernicus ADS Toolbox JupyterLab.\n",
    "\n",
    "---\n",
    "\n",
    "**Note:** The forecast window is set to 5 days (today + 4 days) to match the maximum available from Copernicus."
   ]
  },
  {
   "cell_type": "code",
   "execution_count": null,
   "metadata": {},
   "outputs": [],
   "source": [
    "!pip install cdsapi xarray numpy matplotlib"
   ]
  },
  {
   "cell_type": "code",
   "execution_count": null,
   "metadata": {},
   "outputs": [],
   "source": [
    "# User-adjustable weights\n",
    "UV_WEIGHT = 4  # strong sensitivity\n",
    "POLLEN_WEIGHT = 2  # slight allergy\n",
    "\n",
    "# Normalization constants\n",
    "UV_MAX = 11\n",
    "POLLEN_MAX = 100\n",
    "\n",
    "# Berlin bounding box: [North, West, South, East]\n",
    "BERLIN_AREA = [53.5, 12.0, 51.5, 14.5]"
   ]
  },
  {
   "cell_type": "code",
   "execution_count": null,
   "metadata": {},
   "outputs": [],
   "source": [
    "import cdsapi\n",
    "import xarray as xr\n",
    "import numpy as np\n",
    "import matplotlib.pyplot as plt\n",
    "from datetime import datetime, timedelta\n",
    "import os\n",
    "\n",
    "# Set up date range for 5 days (today + 4 days)\n",
    "start_date = datetime.now().strftime('%Y-%m-%d')\n",
    "end_date = (datetime.now() + timedelta(days=4)).strftime('%Y-%m-%d')\n",
    "\n",
    "# Create a data directory if not present\n",
    "os.makedirs('data', exist_ok=True)"
   ]
  },
  {
   "cell_type": "code",
   "execution_count": null,
   "metadata": {
    "scrolled": true
   },
   "outputs": [],
   "source": [
    "# Fetch UV Index (CAMS global atmospheric composition forecasts)\n",
    "c = cdsapi.Client()\n",
    "uv_path = 'data/uv_berlin.nc'\n",
    "if not os.path.exists(uv_path):\n",
    "    c.retrieve(\n",
    "        'cams-global-atmospheric-composition-forecasts',\n",
    "        {\n",
    "            'date': f'{start_date}/{end_date}',\n",
    "            'type': 'forecast',\n",
    "            'format': 'netcdf',\n",
    "            'variable': 'uv_index',\n",
    "            'model_level': '60',\n",
    "            'time': [\n",
    "                '00:00', '03:00', '06:00', '09:00', '12:00', '15:00', '18:00', '21:00',\n",
    "            ],\n",
    "            'area': BERLIN_AREA,\n",
    "        },\n",
    "        uv_path)\n",
    "print('UV index data ready.')"
   ]
  },
  {
   "cell_type": "code",
   "execution_count": null,
   "metadata": {},
   "outputs": [],
   "source": [
    "# Fetch Pollen (CAMS European air quality forecasts)\n",
    "pollen_path = 'data/pollen_berlin.nc'\n",
    "pollen_vars = [\n",
    "    'birch_pollen',\n",
    "    'grass_pollen',\n",
    "    'olive_pollen',\n",
    "    'ragweed_pollen',\n",
    "]\n",
    "if not os.path.exists(pollen_path):\n",
    "    c.retrieve(\n",
    "        'cams-europe-air-quality-forecasts',\n",
    "        {\n",
    "            'date': f'{start_date}/{end_date}',\n",
    "            'type': 'forecast',\n",
    "            'format': 'netcdf',\n",
    "            'variable': pollen_vars,\n",
    "            'model_level': '0',\n",
    "            'time': [\n",
    "                '00:00', '03:00', '06:00', '09:00', '12:00', '15:00', '18:00', '21:00',\n",
    "            ],\n",
    "            'area': BERLIN_AREA,\n",
    "        },\n",
    "        pollen_path)\n",
    "print('Pollen data ready.')"
   ]
  },
  {
   "cell_type": "code",
   "execution_count": null,
   "metadata": {},
   "outputs": [],
   "source": [
    "# Load UV data\n",
    "uv_ds = xr.open_dataset(uv_path)\n",
    "uv = uv_ds['uv_index']\n",
    "print(uv)\n",
    "# Load pollen data (sum all available types for a total pollen score)\n",
    "pollen_ds = xr.open_dataset(pollen_path)\n",
    "pollen = sum([pollen_ds[var] for var in pollen_vars if var in pollen_ds])\n",
    "print(pollen)"
   ]
  },
  {
   "cell_type": "code",
   "execution_count": null,
   "metadata": {},
   "outputs": [],
   "source": [
    "# Align time and grid\n",
    "# We'll use the first time step as an example\n",
    "uv_t0 = uv.isel(time=0)\n",
    "pollen_t0 = pollen.isel(time=0)\n",
    "\n",
    "# Normalize\n",
    "uv_norm = uv_t0 / UV_MAX\n",
    "pollen_norm = pollen_t0 / POLLEN_MAX\n",
    "\n",
    "# Risk score\n",
    "risk_score = (uv_norm * UV_WEIGHT + pollen_norm * POLLEN_WEIGHT) / (UV_WEIGHT + POLLEN_WEIGHT) * 10\n",
    "risk_score = risk_score.clip(1, 10)\n",
    "\n",
    "# Plot\n",
    "plt.figure(figsize=(8, 6))\n",
    "risk_score.plot(cmap='RdYlGn_r', vmin=1, vmax=10, cbar_kwargs={'label': 'Risk Score (1-10)'})\n",
    "plt.title('Berlin Risk Score (UV + Pollen)')\n",
    "plt.xlabel('Longitude')\n",
    "plt.ylabel('Latitude')\n",
    "plt.show()"
   ]
  },
  {
   "cell_type": "markdown",
   "metadata": {},
   "source": [
    "---\n",
    "**You can extend this notebook to loop over all time steps, export data, or create interactive maps using `hvplot` or `folium` if desired.**"
   ]
  }
 ],
 "metadata": {
  "kernelspec": {
   "display_name": "Python 3 (ipykernel)",
   "language": "python",
   "name": "python3"
  },
  "language_info": {
   "codemirror_mode": {
    "name": "ipython",
    "version": 3
   },
   "file_extension": ".py",
   "mimetype": "text/x-python",
   "name": "python",
   "nbconvert_exporter": "python",
   "pygments_lexer": "ipython3",
   "version": "3.11.4"
  }
 },
 "nbformat": 4,
 "nbformat_minor": 4
}
